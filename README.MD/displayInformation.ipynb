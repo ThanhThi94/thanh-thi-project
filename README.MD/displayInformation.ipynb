{
 "cells": [
  {
   "cell_type": "code",
   "execution_count": 4,
   "id": "47450227",
   "metadata": {},
   "outputs": [
    {
     "name": "stdout",
     "output_type": "stream",
     "text": [
      "Võ Thị Thanh Thi\n",
      "12/9/1994\n",
      "An Nhơn - Bình Định\n",
      "Học thêm mảng khoa học dữ liệu để phục vụ cho công việc\n"
     ]
    }
   ],
   "source": [
    "print (\"Võ Thị Thanh Thi\")\n",
    "print ('12/9/1994')\n",
    "print ('An Nhơn - Bình Định')\n",
    "print ('Học thêm mảng khoa học dữ liệu để phục vụ cho công việc')"
   ]
  }
 ],
 "metadata": {
  "kernelspec": {
   "display_name": "Python 3",
   "language": "python",
   "name": "python3"
  },
  "language_info": {
   "codemirror_mode": {
    "name": "ipython",
    "version": 3
   },
   "file_extension": ".py",
   "mimetype": "text/x-python",
   "name": "python",
   "nbconvert_exporter": "python",
   "pygments_lexer": "ipython3",
   "version": "3.8.8"
  }
 },
 "nbformat": 4,
 "nbformat_minor": 5
}
